{
 "cells": [
  {
   "cell_type": "code",
   "execution_count": 1,
   "id": "initial_id",
   "metadata": {
    "collapsed": true,
    "ExecuteTime": {
     "end_time": "2023-08-25T17:09:30.647178Z",
     "start_time": "2023-08-25T17:09:30.160991Z"
    }
   },
   "outputs": [],
   "source": [
    "import pandas as pd\n",
    "import matplotlib as mpl\n",
    "import matplotlib.pyplot as plt\n",
    "mpl.use('macosx')"
   ]
  },
  {
   "cell_type": "markdown",
   "source": [
    "df = pd.read_csv(\"insurance.csv\")\n",
    "df"
   ],
   "metadata": {
    "collapsed": false
   },
   "id": "9bcb87d8ee22e345"
  },
  {
   "cell_type": "code",
   "execution_count": null,
   "outputs": [],
   "source": [],
   "metadata": {
    "collapsed": false
   },
   "id": "d98ce917958cced0"
  },
  {
   "cell_type": "code",
   "execution_count": null,
   "outputs": [],
   "source": [
    "df.plot.scatter(x=\"bmi\", y=\"charges\")"
   ],
   "metadata": {
    "collapsed": false,
    "ExecuteTime": {
     "start_time": "2023-08-25T17:09:30.754181Z"
    }
   },
   "id": "64479ead2be04628"
  },
  {
   "cell_type": "code",
   "execution_count": null,
   "outputs": [],
   "source": [
    "fig = plt.figure()\n",
    "ax = fig.add_subplot(projection='3d')\n",
    "\n",
    "ax.scatter(df[\"age\"], df[\"bmi\"], df[\"charges\"], marker='o' )\n",
    "\n",
    "\n",
    "ax.set_xlabel('Age')\n",
    "ax.set_ylabel('BMI')\n",
    "ax.set_zlabel('Charges')\n",
    "ax.legend()\n",
    "plt.show()"
   ],
   "metadata": {
    "collapsed": false,
    "ExecuteTime": {
     "start_time": "2023-08-25T17:09:30.754841Z"
    }
   },
   "id": "35a300892c9636a"
  }
 ],
 "metadata": {
  "kernelspec": {
   "display_name": "Python 3",
   "language": "python",
   "name": "python3"
  },
  "language_info": {
   "codemirror_mode": {
    "name": "ipython",
    "version": 2
   },
   "file_extension": ".py",
   "mimetype": "text/x-python",
   "name": "python",
   "nbconvert_exporter": "python",
   "pygments_lexer": "ipython2",
   "version": "2.7.6"
  }
 },
 "nbformat": 4,
 "nbformat_minor": 5
}
